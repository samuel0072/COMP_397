{
 "cells": [
  {
   "cell_type": "code",
   "execution_count": null,
   "id": "8f8b084a",
   "metadata": {},
   "outputs": [],
   "source": [
    "import random\n",
    "import math"
   ]
  },
  {
   "cell_type": "markdown",
   "id": "b84994fa",
   "metadata": {},
   "source": [
    "# Assinatura padrão"
   ]
  },
  {
   "cell_type": "code",
   "execution_count": null,
   "id": "6db1c2e8",
   "metadata": {},
   "outputs": [],
   "source": [
    "class Individuo:\n",
    "    def __init__(self, grafo, fitness = 0, paredes_presentes = []):\n",
    "        self.grafo = grafo #grafo que representa o individuo\n",
    "        self.fitness = fitness#fitness do individuo\n",
    "        self.paredes_presentes = paredes_presentes #paredes presentes nesse indiviuo, um subconjunto das paredes totais\n"
   ]
  },
  {
   "cell_type": "code",
   "execution_count": null,
   "id": "c09884bc",
   "metadata": {},
   "outputs": [],
   "source": [
    "TAMANHO_POP = 100"
   ]
  },
  {
   "cell_type": "code",
   "execution_count": null,
   "id": "c1053105",
   "metadata": {},
   "outputs": [],
   "source": [
    "TAXA_DE_CRUZAMENTO = 0.3"
   ]
  },
  {
   "cell_type": "code",
   "execution_count": null,
   "id": "98f9c943",
   "metadata": {},
   "outputs": [],
   "source": [
    "CHANCE_MUTACAO = 5"
   ]
  },
  {
   "cell_type": "code",
   "execution_count": null,
   "id": "25f5da5f",
   "metadata": {},
   "outputs": [],
   "source": [
    "vertices = ['a1', 'a2', 'a3', 'a4', 'a5', 'a6', 'a7', 'a8', 'a9', 'a10']"
   ]
  },
  {
   "cell_type": "code",
   "execution_count": null,
   "id": "e58bf44a",
   "metadata": {},
   "outputs": [],
   "source": [
    "paredes_totais = [(\"a1\", \"a6\"),(\"a6\", \"a7\"),(\"a6\", \"a2\"),(\"a7\", \"a8\"),(\"a7\", \"a9\"),(\"a7\", \"a5\"),\n",
    "(\"a5\", \"a9\"),(\"a5\", \"a2\"),(\"a5\", \"a4\"),(\"a5\", \"a10\"),(\"a9\", \"a10\"),(\"a10\", \"a4\"),(\"a4\", \"a2\"), (\"a4\", \"a3\")]\n"
   ]
  },
  {
   "cell_type": "code",
   "execution_count": null,
   "id": "91930a12",
   "metadata": {},
   "outputs": [],
   "source": [
    "def fitness(individuo):\n",
    "    global vertices\n",
    "    vertice_inicial = random.choice(vertices)\n",
    "    while vertice_inicial not in individuo.grafo:\n",
    "        vertice_inicial = random.choice(vertices)\n",
    "    fitness = 0\n",
    "    fila = []\n",
    "    visitados = []\n",
    "    fila.append(vertice_inicial)\n",
    "    visitados.append(vertice_inicial)\n",
    "    while fila:\n",
    "        i = fila.pop(0)\n",
    "        for j in individuo.grafo[i]:\n",
    "            if j not in visitados:\n",
    "                visitados.append(j)\n",
    "                fila.append(j)\n",
    "                fitness += 1\n",
    "    return fitness\n"
   ]
  },
  {
   "cell_type": "code",
   "execution_count": null,
   "id": "c7c9bd7b",
   "metadata": {},
   "outputs": [],
   "source": [
    "def mutacao(filho, chance_mutacao):\n",
    "    if chance_mutacao == 0:\n",
    "        return filho\n",
    "    #variaveis globais\n",
    "    global vertices\n",
    "    global paredes_totais\n",
    "    #If para definir se vai haver ou não mutação\n",
    "    if chance_mutacao >= random.randint(1, 100):\n",
    "        #escolher um vértices aleatório no conjunto de vertices\n",
    "        novo_vertice = random.choice(vertices)\n",
    "        #por se tratar de remoção, temos duas variaves auxiliares para o caso de gerar um individuo inválido\n",
    "        vert = filho.grafo\n",
    "        arest = filho.paredes_presentes\n",
    "        #variavel auxiliar para a remoção da aresta certa\n",
    "        aux = []\n",
    "        #remover o vértice selecionado\n",
    "        if novo_vertice in filho.grafo:\n",
    "            for i in vertices:\n",
    "                if novo_vertice in filho.grafo[i]:\n",
    "                    filho.grafo[i].remove(novo_vertice)\n",
    "                    filho.grafo[novo_vertice].remove(i)\n",
    "                    aux = i\n",
    "                    break\n",
    "        #remoção da primeira aresta encontrada do vértice selecionado\n",
    "        for j in range(0, len(filho.paredes_presentes)):\n",
    "            if filho.paredes_presentes[j]==(aux,novo_vertice) or filho.paredes_presentes[j]==(novo_vertice, aux):\n",
    "                    del filho.paredes_presentes[j]\n",
    "                    break\n",
    "        #checar se o filho continua conexo\n",
    "        if checar_individuo(filho):\n",
    "            return filho\n",
    "        #caso seja desconexo, chama mais uma vez a função com a garantia(ou quase) que ele irá mutar novamente\n",
    "        else:\n",
    "            filho.grafo = vert\n",
    "            filho.paredes_presentes = arest\n",
    "            #caso a função ainda não tenha sido chamada recursivamente\n",
    "            if chance_mutacao == 5:\n",
    "                chance_mutacao = 100\n",
    "            return mutacao(filho, chance_mutacao - 2)\n",
    "    else:\n",
    "        return filho\n"
   ]
  },
  {
   "cell_type": "code",
   "execution_count": null,
   "id": "7fa2e06b",
   "metadata": {},
   "outputs": [],
   "source": [
    "def selecao(populacao):\n",
    "    \"retorna os 100 melhores individuos\"\n",
    "    pop_ord = sorted(populacao, key = lambda individuo: individuo.fitness)\n",
    "    return pop_ord[0:TAMANHO_POP]\n",
    "    \n"
   ]
  },
  {
   "cell_type": "markdown",
   "id": "246e2b2c",
   "metadata": {},
   "source": [
    "# Implementação Cruzamento"
   ]
  },
  {
   "cell_type": "code",
   "execution_count": null,
   "id": "9e4e9e08",
   "metadata": {},
   "outputs": [],
   "source": [
    "def seleciona_pais(populacao, taxa_de_cruzamento):\n",
    "    \"Seleciona os candidatos a pais\"\n",
    "    \n",
    "    if(len(populacao )< 2):\n",
    "        raise Exception(\"População muito pequena.\")\n",
    "        \n",
    "    pop_ord = sorted(populacao, key = lambda individuo: individuo.fitness)#ordena a população pelo seu fitness\n",
    "    candidatos = []\n",
    "    \n",
    "    \n",
    "    len_pop = len(populacao)\n",
    "    quantidade_de_individuos = math.ceil(len_pop*taxa_de_cruzamento)#calcula a quantidade de individuos e arredonda o resultado para o maior inteiro mais proximo\n",
    "    \n",
    "    if (quantidade_de_individuos % 2) != 0:#arredonda para o maior inteiro par mais proximo\n",
    "        quantidade_de_individuos+=1\n",
    "    \n",
    "    for i in range(quantidade_de_individuos):#seleção elitista\n",
    "        candidatos.append(pop_ord[i])\n",
    "    \n",
    "    return candidatos\n",
    "    "
   ]
  },
  {
   "cell_type": "code",
   "execution_count": null,
   "id": "5da8fdd3",
   "metadata": {},
   "outputs": [],
   "source": [
    "def cruza_populacao(candidatos_pais):\n",
    "    \"Retorna os filhos criados pelos candidatos a pais\"\n",
    "    filhos = []\n",
    "    \n",
    "    global CHANCE_MUTACAO\n",
    "    \n",
    "    random.shuffle(candidatos_pais)#embaralha a lista de candidatos a pais\n",
    "    \n",
    "    for i in range(0, len(candidatos_pais), 2):#cruza os pais 2 a 2\n",
    "        filho_1, filho_2 = cruzamento(candidatos_pais[i], candidatos_pais[i+1])\n",
    "        filho_1 = mutacao(filho_1, CHANCE_MUTACAO)#muta os filhos\n",
    "        filho_1 = mutacao(filho_2, CHANCE_MUTACAO)#muta os filhos\n",
    "        filhos.append(filho_1)\n",
    "        filhos.append(filho_2)\n",
    "        \n",
    "    return filhos"
   ]
  },
  {
   "cell_type": "code",
   "execution_count": null,
   "id": "fe4519af",
   "metadata": {},
   "outputs": [],
   "source": [
    "def dfs_componentes(grafo):\n",
    "    global vertices\n",
    "   \n",
    "    visitados = []\n",
    "    componentes = []#lista de vertices agrupados por componentes\n",
    "    for u in vertices:#itera sobre todos os vertices\n",
    "        if not u in visitados:#verifica se o vertice já foi visitado em outra componente\n",
    "            #se ele não foi então uma nova componente será criada\n",
    "            componente = []\n",
    "            identifica_componentes(grafo, u, visitados, componente)\n",
    "            componentes.append(componente)\n",
    "    return componentes#retorna a lista de ocmponentes"
   ]
  },
  {
   "cell_type": "code",
   "execution_count": null,
   "id": "681645e7",
   "metadata": {},
   "outputs": [],
   "source": [
    "def identifica_componentes(grafo, vertice_atual, visitados, componente):\n",
    "    #a recursão nessa função ocorre até que todos os vertices da componente tenham sido vizitados\n",
    "    if not vertice_atual in visitados:\n",
    "        visitados.append(vertice_atual)#marca o vertice atual como visitado\n",
    "        componente.append(vertice_atual)#adiciona ele na lista de componentes\n",
    "        vizinhos = grafo[vertice_atual]#obtem seus vizinhos\n",
    "        for u in vizinhos:#itera sobre os vizinhos\n",
    "            identifica_componentes(grafo, u, visitados, componente)\n",
    "    "
   ]
  },
  {
   "cell_type": "code",
   "execution_count": null,
   "id": "4dfd3df5",
   "metadata": {},
   "outputs": [],
   "source": [
    "def conecta_componentes(filho, pai, mae):\n",
    "    \"\"\"Recebe 3 grafos e conecta os componentes do grafo filho usando arestas do grafo pai ou mãe\n",
    "    corrige o filho\"\"\"\n",
    "    \n",
    "    while(not checar_individuo(filho)):#enquanto o filho é desconexo\n",
    "        componentes = dfs_componentes(filho.grafo)\n",
    "        comp1, comp2 = random.sample(componentes, 2)#retorna dois componentes aleatórios diferentes\n",
    "        u = random.choice(comp1)#pega um vertice aleatorio\n",
    "        v = random.choice(comp2)#pega um vertice aleatorio\n",
    "        if (v in pai.grafo[u]) or (v in mae.grafo[u]):#verifica se a aresta v->u existe no pai ou na mãe\n",
    "            filho.grafo[v].append(u)#adiciona a aresta v->u no filho\n",
    "            filho.grafo[u].append(v)#adiciona a aresta u->v no filho\n",
    "    "
   ]
  },
  {
   "cell_type": "code",
   "execution_count": null,
   "id": "9bf8bc1d",
   "metadata": {},
   "outputs": [],
   "source": [
    "def calc_paredes(filho):\n",
    "    \"\"\"Calcula as paredes presentes de um filho e as retorna\"\"\"\n",
    "    \n",
    "    grafo = filho.grafo\n",
    "    paredes = []\n",
    "    global vertices\n",
    "    global paredes_totais\n",
    "    \n",
    "    for u in vertices:\n",
    "        for v in grafo[u]:\n",
    "            parede = (u, v)\n",
    "            if parede in paredes_totais:\n",
    "                paredes.append(parede )\n",
    "\n",
    "    return paredes"
   ]
  },
  {
   "cell_type": "code",
   "execution_count": null,
   "id": "46742e84",
   "metadata": {},
   "outputs": [],
   "source": [
    "def cruzamento(pai, mae):\n",
    "    \"Retorna o filho\"\n",
    "    global vertices\n",
    "   \n",
    "    vert_len = len(vertices)\n",
    "    \n",
    "    ponto = random.randint(0, vert_len)#escolhe um ponto de corte aleatorio\n",
    "    \n",
    "    #cria dois filhos vazios\n",
    "    filho_1 = Individuo({\"a1\":[], \"a2\":[],\"a3\":[],\"a4\":[],\"a5\":[],\"a6\":[],\"a7\":[],\"a8\":[],\"a9\":[],\"a10\":[]})\n",
    "    filho_2 = Individuo({\"a1\":[], \"a2\":[],\"a3\":[],\"a4\":[],\"a5\":[],\"a6\":[],\"a7\":[],\"a8\":[],\"a9\":[],\"a10\":[]})\n",
    "    \n",
    "    #aqui copia a primeira parte do gene dos genitores\n",
    "    for i in range(0, ponto):\n",
    "        #copiando gene do pai(filho_1) e da mãe(filho_2)\n",
    "        # ----------------------------- filho_1 -----------------------------------\n",
    "        #essas duas linhas servem para garantir que não haja elementos repetidos na lista de vizinhos do filho_1\n",
    "        conjunto_1 = set(filho_1.grafo[vertices[i]])#conjunto de todos os vizinhos de vertices[i] no grafo filho_1\n",
    "        conjunto_1.update(set(pai.grafo[vertices[i]]))#atualiza esse conjunto com os vizinhos de vertices[i] do pai\n",
    "        \n",
    "        filho_1.grafo[vertices[i]] = list(conjunto_1)#atribui o novo conjunto ao filho\n",
    "        \n",
    "        for element in conjunto_1:\n",
    "            #esse loop é usado para atualizar a lista dos vizinhos com o vertices[i] no filho_1 e 2\n",
    "            conj_1 = set(filho_1.grafo[element])\n",
    "            conj_1.add(vertices[i])\n",
    "            filho_1.grafo[element] = list(conj_1)\n",
    "        \n",
    "        # ----------------------------- filho_2 -----------------------------------\n",
    "        #essas duas linhas servem para garantir que não haja elementos repetidos na lista de vizinhos do filho_2\n",
    "        conjunto_2 = set(filho_2.grafo[vertices[i]])#conjunto de todos os vizinhos de vertices[i] no grafo filho_2\n",
    "        conjunto_2.update(set(mae.grafo[vertices[i]]))#atualiza esse conjunto com os vizinhos de vertices[i] da mãe\n",
    "        \n",
    "        filho_2.grafo[vertices[i]] = list(conjunto_2)#atribui o novo conjunto ao filho_2\n",
    "        \n",
    "        for element in conjunto_2:  \n",
    "            conj_2 = set(filho_2.grafo[element])\n",
    "            conj_2.add(vertices[i])\n",
    "            filho_2.grafo[element] = list(conj_2)\n",
    "    \n",
    "    #aqui copia a segunda parte do gene dos genitores\n",
    "    for i in range(ponto, vert_len):\n",
    "        #copiando gene do pai(filho_1) e da mãe(filho_2)\n",
    "       \n",
    "        # ------------------ filho_1 -------------------------------\n",
    "        #essas duas linhas servem para garantir que não haja elementos repetidos na lista de vizinhos do filho_1\n",
    "        conjunto_1 = set(filho_1.grafo[vertices[i]])#conjunto de todos os vizinhos de vertices[i] no grafo filho_1\n",
    "        conjunto_1.update(set(mae.grafo[vertices[i]]))#atualiza esse conjunto com os vizinhos de vertices[i] da mãe\n",
    "        \n",
    "        filho_1.grafo[vertices[i]] = list(conjunto_1)#atribui o novo conjunto ao filho_1\n",
    "        \n",
    "        for element in conjunto_1:\n",
    "            #esse loop é usado para atualizar a lista dos vizinhos com o vertices[i] no filho\n",
    "            conj = set(filho_1.grafo[element])\n",
    "            conj.add(vertices[i])\n",
    "            filho_1.grafo[element] = list(conj)\n",
    "       \n",
    "        # ------------------- filho_2 -------------------------------\n",
    "        conjunto_2 = set(filho_2.grafo[vertices[i]])#conjunto de todos os vizinhos de vertices[i] no grafo filho\n",
    "        conjunto_2.update(set(pai.grafo[vertices[i]]))#atualiza esse conjunto com os vizinhos de vertices[i] do pai\n",
    "        \n",
    "        filho_2.grafo[vertices[i]] = list(conjunto_2)#atribui o novo conjunto ao filho\n",
    "        \n",
    "        for element in conjunto_2:    \n",
    "            conj = set(filho_2.grafo[element])\n",
    "            conj.add(vertices[i])\n",
    "            filho_2.grafo[element] = list(conj)\n",
    "    \n",
    "    conecta_componentes(filho_1, pai, mae)#corrige o filho criado caso ele seja um individuo monstro\n",
    "    conecta_componentes(filho_2, pai, mae)#corrige o filho criado caso ele seja um individuo monstro\n",
    "    \n",
    "    filho_1.paredes_presentes = calc_paredes(filho_1)\n",
    "    filho_2.paredes_presentes = calc_paredes(filho_2)\n",
    "    \n",
    "    filho_1.fitness = fitness(filho_1)\n",
    "    filho_2.fitness = fitness(filho_2)\n",
    "    \n",
    "            \n",
    "    return [filho_1, filho_2]"
   ]
  },
  {
   "cell_type": "markdown",
   "id": "efdd01f3",
   "metadata": {},
   "source": [
    "# Implementação de checar individuo e inicializar população"
   ]
  },
  {
   "cell_type": "code",
   "execution_count": null,
   "id": "4193d235",
   "metadata": {},
   "outputs": [],
   "source": [
    "def checar_individuo(individuo):\n",
    "    \"retorna True ou False se o individuo.grafo é conexo\"\n",
    "    global vertices\n",
    "    grafo = individuo.grafo\n",
    "    visitados = []#lista de vertices visitados\n",
    "    fila = []#a fila\n",
    "    \n",
    "    s = random.choice(vertices)#escolhe um ponto de partida aleatorio\n",
    "    \n",
    "    fila.append(s)#coloca ele na fila\n",
    "    \n",
    "    while(len(fila) > 0):#algoritmo BFS\n",
    "        s = fila.pop(0)#retira o proximo elemento da fila\n",
    "        if not s in visitados:#se ele não foi visitado\n",
    "            visitados.append(s)#coloca na lista de visitados\n",
    "            vizinhos_s = grafo[s]#os visinhos dele\n",
    "            fila.extend(vizinhos_s)#adiciona os visinhos na fila\n",
    "            \n",
    "    return len(visitados) == len(vertices)#retorn True se visitou todos os vertices, False caso contrário\n"
   ]
  },
  {
   "cell_type": "code",
   "execution_count": null,
   "id": "0e03ef1c",
   "metadata": {},
   "outputs": [],
   "source": [
    "def init_pop():\n",
    "    \"devolve uma população gerada aleatoriamente de grafos conexos\",\n",
    "    global TAMANHO_POP\n",
    "    global paredes_totais\n",
    "    \n",
    "    pop = []#população vazia\n",
    "    for i in range(TAMANHO_POP):#cria cada individuo de uma vez\n",
    "        filho = Individuo({'a1': ['a6'],\n",
    "                 'a2': [],\n",
    "                 'a3': ['a4'],\n",
    "                 'a4': ['a3'],\n",
    "                 'a5': [],\n",
    "                 'a6': ['a1'],\n",
    "                 'a7': ['a8'],\n",
    "                 'a8': ['a7'],\n",
    "                 'a9': [],\n",
    "                 'a10': []})# inicializa um individuo apenas com as paredes obrigatórias\n",
    "        \n",
    "        while(not checar_individuo(filho)):#enquanto o filho não for um grafo conexo\n",
    "            parede = random.choice(paredes_totais)#escolhe uma parede aleatória das paredes totais\n",
    "            \n",
    "            if not parede[0] in filho.grafo[parede[1]]:#verifica se essa parede já foi posicionada no filho\n",
    "                filho.grafo[parede[0]].append(parede[1])#adiciona nas listas de adjacência do grafo\n",
    "                filho.grafo[parede[1]].append(parede[0])\n",
    "                filho.paredes_presentes.append(parede)#adiciona na lista de paredes presentes no filho\n",
    "                \n",
    "        filho.fitness = fitness(filho)#calcula o fitness do filho\n",
    "        pop.append(filho)#adiciona o filho a população\n",
    "    \n",
    "    return pop"
   ]
  },
  {
   "cell_type": "markdown",
   "id": "81c27d74",
   "metadata": {},
   "source": [
    "# Loop do algoritmo"
   ]
  },
  {
   "cell_type": "code",
   "execution_count": null,
   "id": "624a6590",
   "metadata": {},
   "outputs": [],
   "source": [
    "populacao = init_pop()"
   ]
  },
  {
   "cell_type": "code",
   "execution_count": null,
   "id": "0c691db6",
   "metadata": {},
   "outputs": [],
   "source": [
    "def checar_condicao(populacao):\n",
    "    cond = False\n",
    "    tam = 9\n",
    "    for ind in populacao:\n",
    "        if ind.fitness == tam:\n",
    "            cond = True\n",
    "            break\n",
    "    return cond"
   ]
  },
  {
   "cell_type": "code",
   "execution_count": null,
   "id": "3b0f89d6",
   "metadata": {},
   "outputs": [],
   "source": [
    "geracao = 1"
   ]
  },
  {
   "cell_type": "code",
   "execution_count": null,
   "id": "25e9b38b",
   "metadata": {
    "scrolled": true
   },
   "outputs": [],
   "source": [
    "while (not checar_condicao(populacao)) and (geracao <= 1000):\n",
    "    print(geracao, end= \"\\n\")\n",
    "    candidatos_pais = seleciona_pais(populacao, TAXA_DE_CRUZAMENTO)\n",
    "    filhos = cruza_populacao(candidatos_pais)\n",
    "    populacao.extend(filhos)\n",
    "    populacao = selecao(populacao)\n",
    "    geracao += 1"
   ]
  },
  {
   "cell_type": "code",
   "execution_count": null,
   "id": "d9637d55",
   "metadata": {
    "scrolled": true
   },
   "outputs": [],
   "source": [
    "populacao"
   ]
  },
  {
   "cell_type": "code",
   "execution_count": null,
   "id": "95a0b21c",
   "metadata": {},
   "outputs": [],
   "source": [
    "populacao[10].grafo"
   ]
  },
  {
   "cell_type": "code",
   "execution_count": null,
   "id": "3865fb56",
   "metadata": {
    "scrolled": true
   },
   "outputs": [],
   "source": [
    "for ind in populacao:\n",
    "    if ind.fitness > 9:\n",
    "        print(\"maior q 9\")"
   ]
  }
 ],
 "metadata": {
  "kernelspec": {
   "display_name": "Python 3",
   "language": "python",
   "name": "python3"
  },
  "language_info": {
   "codemirror_mode": {
    "name": "ipython",
    "version": 3
   },
   "file_extension": ".py",
   "mimetype": "text/x-python",
   "name": "python",
   "nbconvert_exporter": "python",
   "pygments_lexer": "ipython3",
   "version": "3.8.8"
  }
 },
 "nbformat": 4,
 "nbformat_minor": 5
}
