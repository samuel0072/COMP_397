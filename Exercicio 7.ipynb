{
 "cells": [
  {
   "cell_type": "code",
   "execution_count": 1,
   "id": "8f8b084a",
   "metadata": {},
   "outputs": [],
   "source": [
    "import random"
   ]
  },
  {
   "cell_type": "markdown",
   "id": "b84994fa",
   "metadata": {},
   "source": [
    "# Assinatura padrão"
   ]
  },
  {
   "cell_type": "code",
   "execution_count": 2,
   "id": "6db1c2e8",
   "metadata": {},
   "outputs": [],
   "source": [
    "class Individuo:\n",
    "    def __init__(self, grafo, fitness = 0, paredes_presentes = []):\n",
    "        self.grafo = grafo #grafo que representa o individuo\n",
    "        self.fitness = fitness#fitness do individuo\n",
    "        self.paredes_presentes = paredes_presentes #paredes presentes nesse indiviuo, um subconjunto das paredes totais\n"
   ]
  },
  {
   "cell_type": "code",
   "execution_count": 3,
   "id": "5ebecebf",
   "metadata": {},
   "outputs": [],
   "source": [
    "populacao = []"
   ]
  },
  {
   "cell_type": "code",
   "execution_count": 4,
   "id": "25f5da5f",
   "metadata": {},
   "outputs": [],
   "source": [
    "vertices = ['a1', 'a2', 'a3', 'a4', 'a5', 'a6', 'a7', 'a8', 'a9', 'a10']"
   ]
  },
  {
   "cell_type": "code",
   "execution_count": 5,
   "id": "e58bf44a",
   "metadata": {},
   "outputs": [],
   "source": [
    "paredes_totais = [(\"a1\", \"a6\"),(\"a6\", \"a7\"),(\"a6\", \"a2\"),(\"a7\", \"a8\"),(\"a7\", \"a9\"),(\"a7\", \"a5\"),\n",
    "(\"a5\", \"a9\"),(\"a5\", \"a2\"),(\"a5\", \"a4\"),(\"a5\", \"a10\"),(\"a9\", \"a10\"),(\"a10\", \"a4\"),(\"a4\", \"a2\"), (\"a4\", \"a3\")]\n"
   ]
  },
  {
   "cell_type": "code",
   "execution_count": 6,
   "id": "bfdb493c",
   "metadata": {},
   "outputs": [],
   "source": [
    "def checar_individuo(individuo):\n",
    "    \"retorna True ou False se o individuo.grafo é conexo\"\n",
    "    pass\n"
   ]
  },
  {
   "cell_type": "code",
   "execution_count": 7,
   "id": "eb30069e",
   "metadata": {},
   "outputs": [],
   "source": [
    "def init_pop():\n",
    "    \"devolve uma população gerada aleatoriamente de grafos conexos\"\n",
    "    pass\n"
   ]
  },
  {
   "cell_type": "code",
   "execution_count": 8,
   "id": "91930a12",
   "metadata": {},
   "outputs": [],
   "source": [
    "def fitness(individuo):\n",
    "    \"retorna o fitness do inviduo\"\n",
    "    pass\n"
   ]
  },
  {
   "cell_type": "code",
   "execution_count": 9,
   "id": "c7c9bd7b",
   "metadata": {},
   "outputs": [],
   "source": [
    "def mutacao(individuo):\n",
    "    \"retorna o novo individuo(mutado ou não)\"\n",
    "    pass\n"
   ]
  },
  {
   "cell_type": "code",
   "execution_count": 10,
   "id": "7fa2e06b",
   "metadata": {},
   "outputs": [],
   "source": [
    "def selecao(populacao):\n",
    "    \"retorna os 100 melhores individuos\"\n",
    "    pass\n"
   ]
  },
  {
   "cell_type": "markdown",
   "id": "246e2b2c",
   "metadata": {},
   "source": [
    "# Implementação Cruzamento"
   ]
  },
  {
   "cell_type": "code",
   "execution_count": 11,
   "id": "bebbd256",
   "metadata": {},
   "outputs": [],
   "source": [
    "random.seed()"
   ]
  },
  {
   "cell_type": "code",
   "execution_count": 12,
   "id": "2692dcd2",
   "metadata": {},
   "outputs": [],
   "source": [
    "grafo1 = {\"a1\":[\"a6\"],\n",
    "          \"a2\":[\"a6\", \"a5\", \"a4\"],\n",
    "          \"a3\":[\"a4\"],\n",
    "          \"a4\":[\"a10\", \"a2\", \"a3\"],\n",
    "          \"a5\":[\"a2\"],\n",
    "          \"a6\":[\"a1\", \"a2\", \"a7\"],\n",
    "          \"a7\":[\"a8\", \"a9\", \"a6\"],\n",
    "          \"a8\":[\"a7\"],\n",
    "          \"a9\":[\"a7\"],\n",
    "          \"a10\":[\"a4\"]}\n",
    "paredes_presentes = [(\"a4\", \"a2\"), (\"a1\", \"a6\"), (\"a6\", \"a2\"), (\"a5\", \"a2\"), (\"a4\", \"a3\"),\n",
    "                    (\"a10\", \"a4\"),(\"a6\", \"a7\"),(\"a7\", \"a8\"), (\"a7\", \"a9\") ]\n",
    "individuo_1 = Individuo(grafo1, paredes_presentes = paredes_presentes)"
   ]
  },
  {
   "cell_type": "code",
   "execution_count": 13,
   "id": "ea971ef8",
   "metadata": {},
   "outputs": [],
   "source": [
    "grafo2 = {\"a1\":[\"a6\"],\n",
    "          \"a2\":[\"a6\", \"a5\"],\n",
    "          \"a3\":[\"a4\"],\n",
    "          \"a4\":[\"a10\", \"a3\"],\n",
    "          \"a5\":[\"a2\", \"a10\", \"a7\"],\n",
    "          \"a6\":[\"a1\", \"a2\"],\n",
    "          \"a7\":[\"a8\", \"a9\", \"a5\"],\n",
    "          \"a8\":[\"a7\"],\n",
    "          \"a9\":[\"a7\"],\n",
    "          \"a10\":[\"a4\", \"a5\"]}\n",
    "paredes_presentes = [ (\"a1\", \"a6\"), (\"a6\", \"a2\"), (\"a5\", \"a2\"), (\"a4\", \"a3\"),\n",
    "                    (\"a10\", \"a4\"),(\"a7\", \"a8\"), (\"a7\", \"a9\"), (\"a7\", \"a5\"), (\"a5\", \"a10\")]\n",
    "individuo_2 = Individuo(grafo2, paredes_presentes = paredes_presentes)"
   ]
  },
  {
   "cell_type": "code",
   "execution_count": 14,
   "id": "9e4e9e08",
   "metadata": {},
   "outputs": [],
   "source": [
    "def seleciona_pais(populacao):\n",
    "    \"seleciona os candidatos a pais\"\n",
    "    pass"
   ]
  },
  {
   "cell_type": "code",
   "execution_count": 15,
   "id": "5da8fdd3",
   "metadata": {},
   "outputs": [],
   "source": [
    "def recombina_populacao(candidatos_pais):\n",
    "    \"Retorna os filhos criados pelos candidatos a pais\"\n",
    "    pass"
   ]
  },
  {
   "cell_type": "code",
   "execution_count": 57,
   "id": "46742e84",
   "metadata": {},
   "outputs": [],
   "source": [
    "def cruzamento(pai, mae):\n",
    "    \"Retorna o filho\"\n",
    "    global vertices\n",
    "   \n",
    "    vert_len = len(vertices)\n",
    "    \n",
    "    ponto = random.randint(0, vert_len)#escolhe um ponto de corte aleatorio\n",
    "    \n",
    "    #cria dois filhos vazios\n",
    "    filho_1 = Individuo({\"a1\":[], \"a2\":[],\"a3\":[],\"a4\":[],\"a5\":[],\"a6\":[],\"a7\":[],\"a8\":[],\"a9\":[],\"a10\":[]})\n",
    "    filho_2 = Individuo({\"a1\":[], \"a2\":[],\"a3\":[],\"a4\":[],\"a5\":[],\"a6\":[],\"a7\":[],\"a8\":[],\"a9\":[],\"a10\":[]})\n",
    "    \n",
    "    #aqui copia a primeira parte do gene dos genitores\n",
    "    for i in range(0, ponto):\n",
    "        #copiando gene do pai(filho_1) e da mãe(filho_2)\n",
    "        # ----------------------------- filho_1 -----------------------------------\n",
    "        #essas duas linhas servem para garantir que não haja elementos repetidos na lista de vizinhos do filho_1\n",
    "        conjunto_1 = set(filho_1.grafo[vertices[i]])#conjunto de todos os vizinhos de vertices[i] no grafo filho_1\n",
    "        conjunto_1.update(set(pai.grafo[vertices[i]]))#atualiza esse conjunto com os vizinhos de vertices[i] do pai\n",
    "        \n",
    "        filho_1.grafo[vertices[i]] = list(conjunto_1)#atribui o novo conjunto ao filho\n",
    "        \n",
    "        for element in conjunto_1:\n",
    "            #esse loop é usado para atualizar a lista dos vizinhos com o vertices[i] no filho_1 e 2\n",
    "            conj_1 = set(filho_1.grafo[element])\n",
    "            conj_1.add(vertices[i])\n",
    "            filho_1.grafo[element] = list(conj_1)\n",
    "        \n",
    "        # ----------------------------- filho_2 -----------------------------------\n",
    "        #essas duas linhas servem para garantir que não haja elementos repetidos na lista de vizinhos do filho_2\n",
    "        conjunto_2 = set(filho_2.grafo[vertices[i]])#conjunto de todos os vizinhos de vertices[i] no grafo filho_2\n",
    "        conjunto_2.update(set(mae.grafo[vertices[i]]))#atualiza esse conjunto com os vizinhos de vertices[i] da mãe\n",
    "        \n",
    "        filho_2.grafo[vertices[i]] = list(conjunto_2)#atribui o novo conjunto ao filho_2\n",
    "        \n",
    "        for element in conjunto_2:  \n",
    "            conj_2 = set(filho_2.grafo[element])\n",
    "            conj_2.add(vertices[i])\n",
    "            filho_2.grafo[element] = list(conj_2)\n",
    "    \n",
    "    #aqui copia a segunda parte do gene dos genitores\n",
    "    for i in range(ponto, vert_len):\n",
    "        #copiando gene do pai(filho_1) e da mãe(filho_2)\n",
    "       \n",
    "        # ------------------ filho_1 -------------------------------\n",
    "        #essas duas linhas servem para garantir que não haja elementos repetidos na lista de vizinhos do filho_1\n",
    "        conjunto_1 = set(filho_1.grafo[vertices[i]])#conjunto de todos os vizinhos de vertices[i] no grafo filho_1\n",
    "        conjunto_1.update(set(mae.grafo[vertices[i]]))#atualiza esse conjunto com os vizinhos de vertices[i] da mãe\n",
    "        \n",
    "        filho_1.grafo[vertices[i]] = list(conjunto_1)#atribui o novo conjunto ao filho_1\n",
    "        \n",
    "        for element in conjunto_1:\n",
    "            #esse loop é usado para atualizar a lista dos vizinhos com o vertices[i] no filho\n",
    "            conj = set(filho_1.grafo[element])\n",
    "            conj.add(vertices[i])\n",
    "            filho_1.grafo[element] = list(conj)\n",
    "       \n",
    "        # ------------------- filho_2 -------------------------------\n",
    "        conjunto_2 = set(filho_2.grafo[vertices[i]])#conjunto de todos os vizinhos de vertices[i] no grafo filho\n",
    "        conjunto_2.update(set(pai.grafo[vertices[i]]))#atualiza esse conjunto com os vizinhos de vertices[i] do pai\n",
    "        \n",
    "        filho_2.grafo[vertices[i]] = list(conjunto_2)#atribui o novo conjunto ao filho\n",
    "        \n",
    "        for element in conjunto_2:    \n",
    "            conj = set(filho_2.grafo[element])\n",
    "            conj.add(vertices[i])\n",
    "            filho_2.grafo[element] = list(conj)\n",
    "            \n",
    "    return [filho_1, filho_2]"
   ]
  },
  {
   "cell_type": "code",
   "execution_count": 58,
   "id": "3d3e0060",
   "metadata": {},
   "outputs": [],
   "source": [
    "a = cruzamento(individuo_1, individuo_2)"
   ]
  },
  {
   "cell_type": "code",
   "execution_count": 63,
   "id": "6cf0ae9b",
   "metadata": {},
   "outputs": [],
   "source": [
    "grafo3 = {\"a1\":[\"a6\"],\n",
    "          \"a2\":[\"a6\", \"a5\", \"a4\"],\n",
    "          \"a3\":[\"a4\"],\n",
    "          \"a4\":[\"a10\", \"a2\", \"a3\", \"a5\"],\n",
    "          \"a5\":[\"a2\", \"a4\", \"a10\", \"a9\", \"a7\"],\n",
    "          \"a6\":[\"a1\", \"a2\", \"a7\"],\n",
    "          \"a7\":[\"a8\", \"a9\", \"a6\", \"a5\"],\n",
    "          \"a8\":[\"a7\"],\n",
    "          \"a9\":[\"a7\", \"a5\", \"a10\"],\n",
    "          \"a10\":[\"a4\", \"a9\", \"a5\"]}\n",
    "\n",
    "individuo_3 = Individuo(grafo3)"
   ]
  },
  {
   "cell_type": "code",
   "execution_count": 64,
   "id": "6fe0153f",
   "metadata": {},
   "outputs": [],
   "source": [
    "grafo4 = {\"a1\":[\"a6\"],\n",
    "          \"a2\":[\"a6\", \"a5\"],\n",
    "          \"a3\":[\"a4\"],\n",
    "          \"a4\":[\"a3\", \"a5\"],\n",
    "          \"a5\":[\"a2\", \"a4\"],\n",
    "          \"a6\":[\"a1\", \"a2\", \"a7\"],\n",
    "          \"a7\":[\"a8\", \"a9\", \"a6\"],\n",
    "          \"a8\":[\"a7\"],\n",
    "          \"a9\":[\"a7\", \"a10\"],\n",
    "          \"a10\":[\"a9\"]}\n",
    "\n",
    "individuo_4 = Individuo(grafo4)"
   ]
  },
  {
   "cell_type": "code",
   "execution_count": 66,
   "id": "927444af",
   "metadata": {},
   "outputs": [],
   "source": [
    "b = cruzamento(individuo_3, individuo_4)"
   ]
  },
  {
   "cell_type": "code",
   "execution_count": 68,
   "id": "fad2a64f",
   "metadata": {},
   "outputs": [
    {
     "data": {
      "text/plain": [
       "{'a1': ['a6'],\n",
       " 'a2': ['a4', 'a5', 'a6'],\n",
       " 'a3': ['a4'],\n",
       " 'a4': ['a10', 'a3', 'a5', 'a2'],\n",
       " 'a5': ['a4', 'a9', 'a10', 'a7', 'a2'],\n",
       " 'a6': ['a7', 'a1', 'a2'],\n",
       " 'a7': ['a8', 'a9', 'a6', 'a5'],\n",
       " 'a8': ['a7'],\n",
       " 'a9': ['a10', 'a7', 'a5'],\n",
       " 'a10': ['a4', 'a9', 'a5']}"
      ]
     },
     "execution_count": 68,
     "metadata": {},
     "output_type": "execute_result"
    }
   ],
   "source": [
    "b[0].grafo"
   ]
  },
  {
   "cell_type": "code",
   "execution_count": 69,
   "id": "8658f4dc",
   "metadata": {},
   "outputs": [
    {
     "data": {
      "text/plain": [
       "{'a1': ['a6'],\n",
       " 'a2': ['a5', 'a6'],\n",
       " 'a3': ['a4'],\n",
       " 'a4': ['a10', 'a3', 'a5'],\n",
       " 'a5': ['a10', 'a4', 'a9', 'a2'],\n",
       " 'a6': ['a7', 'a1', 'a2'],\n",
       " 'a7': ['a8', 'a9', 'a6'],\n",
       " 'a8': ['a7'],\n",
       " 'a9': ['a10', 'a7', 'a5'],\n",
       " 'a10': ['a4', 'a9', 'a5']}"
      ]
     },
     "execution_count": 69,
     "metadata": {},
     "output_type": "execute_result"
    }
   ],
   "source": [
    "b[1].grafo"
   ]
  }
 ],
 "metadata": {
  "kernelspec": {
   "display_name": "Python 3",
   "language": "python",
   "name": "python3"
  },
  "language_info": {
   "codemirror_mode": {
    "name": "ipython",
    "version": 3
   },
   "file_extension": ".py",
   "mimetype": "text/x-python",
   "name": "python",
   "nbconvert_exporter": "python",
   "pygments_lexer": "ipython3",
   "version": "3.8.8"
  }
 },
 "nbformat": 4,
 "nbformat_minor": 5
}
