{
 "cells": [
  {
   "cell_type": "code",
   "execution_count": 1,
   "id": "92406fc9",
   "metadata": {},
   "outputs": [],
   "source": [
    "from keras.datasets import mnist\n",
    "from keras import models\n",
    "from keras import layers\n",
    "from tensorflow.keras.utils import to_categorical"
   ]
  },
  {
   "cell_type": "markdown",
   "id": "c21f5d63",
   "metadata": {},
   "source": [
    "# Carregamento dos dados de treino e teste"
   ]
  },
  {
   "cell_type": "code",
   "execution_count": 41,
   "id": "f96e62cb",
   "metadata": {},
   "outputs": [],
   "source": [
    "(train_images, train_labels), (test_images, test_labels) = mnist.load_data()"
   ]
  },
  {
   "cell_type": "code",
   "execution_count": 42,
   "id": "d5280cd5",
   "metadata": {},
   "outputs": [],
   "source": [
    "train_images = train_images.reshape((60000, 28 * 28))\n",
    "train_images = train_images.astype('float32') / 255\n",
    "test_images = test_images.reshape((10000, 28 * 28))\n",
    "test_images = test_images.astype('float32') / 255"
   ]
  },
  {
   "cell_type": "code",
   "execution_count": 43,
   "id": "8a40af4f",
   "metadata": {},
   "outputs": [],
   "source": [
    "train_labels = to_categorical(train_labels)\n",
    "test_labels = to_categorical(test_labels)"
   ]
  },
  {
   "cell_type": "markdown",
   "id": "6df2fc23",
   "metadata": {},
   "source": [
    "# Definição da classe NeuralNetwork"
   ]
  },
  {
   "cell_type": "code",
   "execution_count": 34,
   "id": "9ec26236",
   "metadata": {},
   "outputs": [],
   "source": [
    "class NeuralNetwork:\n",
    "    \"\"\"\n",
    "    Esse classe serve apenas para agrupar a rede neural e sua acurácia\n",
    "    \"\"\"\n",
    "    def __init__(self):\n",
    "        self.network = models.Sequential()\n",
    "        self.network.add(layers.Dense(512, activation='relu', input_shape=(28 * 28,)))\n",
    "        self.network.add(layers.Dense(10, activation='softmax'))\n",
    "        self.network.compile(optimizer='rmsprop',\n",
    "        loss='categorical_crossentropy',\n",
    "        metrics=['accuracy'])\n",
    "        \n",
    "        self.fitness = 0"
   ]
  },
  {
   "cell_type": "markdown",
   "id": "7cfa0ca4",
   "metadata": {},
   "source": [
    "# Funções do algoritmo genético"
   ]
  },
  {
   "cell_type": "code",
   "execution_count": 44,
   "id": "03736673",
   "metadata": {},
   "outputs": [],
   "source": [
    "def crossover(parent1:NeuralNetwork, parent2:NeuralNetwork):\n",
    "    \"\"\"\n",
    "    Realiza o cruzamento entre o parent1 e a parent2 e retorna os dois filhos.\n",
    "    offspring1 possui os pesos da primeira camada de parent1 e da segunda camada de parent2\n",
    "    offspring2 possui os pesos da primeira camada de parent2 e da segunda camada de parent1\n",
    "    \"\"\"\n",
    "    offspring1 = NeuralNetwork()\n",
    "    \n",
    "    offspring2 = NeuralNetwork()\n",
    "\n",
    "    \n",
    "    p1_weights = [parent1.network.layers[0].get_weights(), parent1.network.layers[1].get_weights()]\n",
    "    p2_weights = [parent2.network.layers[0].get_weights(), parent2.network.layers[1].get_weights()]\n",
    "    \n",
    "    offspring1.network.layers[0].set_weights(p1_weights[0])\n",
    "    offspring1.network.layers[1].set_weights(p2_weights[1])\n",
    "    \n",
    "    offspring2.network.layers[0].set_weights(p2_weights[0])\n",
    "    offspring2.network.layers[1].set_weights(p1_weights[1])\n",
    "    \n",
    "    return [offspring1, offspring2]"
   ]
  },
  {
   "cell_type": "markdown",
   "id": "305715e5",
   "metadata": {},
   "source": [
    "# Parametros do algoritmo genético"
   ]
  },
  {
   "cell_type": "code",
   "execution_count": 45,
   "id": "badde65e",
   "metadata": {},
   "outputs": [],
   "source": [
    "SIZE_POP = 100 # tamanho da população"
   ]
  },
  {
   "cell_type": "code",
   "execution_count": 46,
   "id": "cafdc814",
   "metadata": {},
   "outputs": [],
   "source": [
    "CROSS_RATE = 0.6 #taxa de cruzamento"
   ]
  },
  {
   "cell_type": "code",
   "execution_count": 47,
   "id": "ab29b071",
   "metadata": {},
   "outputs": [],
   "source": [
    "MUT_CHANCE = 5 #chance de mutação"
   ]
  },
  {
   "cell_type": "code",
   "execution_count": 48,
   "id": "e2ead520",
   "metadata": {},
   "outputs": [],
   "source": [
    "MAX_GEN = 100 # Quantidade máxima de gerações"
   ]
  },
  {
   "cell_type": "markdown",
   "id": "cd63527c",
   "metadata": {},
   "source": [
    "# Treino da rede com método padrão"
   ]
  },
  {
   "cell_type": "code",
   "execution_count": 51,
   "id": "7acb962f",
   "metadata": {},
   "outputs": [],
   "source": [
    "network = NeuralNetwork()"
   ]
  },
  {
   "cell_type": "code",
   "execution_count": 53,
   "id": "f2c367f3",
   "metadata": {},
   "outputs": [
    {
     "name": "stdout",
     "output_type": "stream",
     "text": [
      "Epoch 1/5\n",
      "469/469 [==============================] - 19s 36ms/step - loss: 0.2566 - accuracy: 0.92490s - loss: 0.2594 - accu\n",
      "Epoch 2/5\n",
      "469/469 [==============================] - 17s 36ms/step - loss: 0.1036 - accuracy: 0.9696\n",
      "Epoch 3/5\n",
      "469/469 [==============================] - ETA: 0s - loss: 0.0676 - accuracy: 0.97 - 18s 38ms/step - loss: 0.0676 - accuracy: 0.9796\n",
      "Epoch 4/5\n",
      "469/469 [==============================] - 18s 38ms/step - loss: 0.0490 - accuracy: 0.9850\n",
      "Epoch 5/5\n",
      "469/469 [==============================] - 20s 42ms/step - loss: 0.0372 - accuracy: 0.9890\n"
     ]
    },
    {
     "data": {
      "text/plain": [
       "<keras.callbacks.History at 0x22525632970>"
      ]
     },
     "execution_count": 53,
     "metadata": {},
     "output_type": "execute_result"
    }
   ],
   "source": [
    "network.network.fit(train_images, train_labels, epochs=5, batch_size=128)"
   ]
  },
  {
   "cell_type": "code",
   "execution_count": 54,
   "id": "3249fae5",
   "metadata": {},
   "outputs": [
    {
     "name": "stdout",
     "output_type": "stream",
     "text": [
      "313/313 [==============================] - 3s 8ms/step - loss: 0.0668 - accuracy: 0.9801\n"
     ]
    }
   ],
   "source": [
    "test_loss, test_acc = network.network.evaluate(test_images, test_labels)"
   ]
  },
  {
   "cell_type": "markdown",
   "id": "7eef969d",
   "metadata": {},
   "source": [
    "# Treino da rede com algoritmo genético"
   ]
  },
  {
   "cell_type": "markdown",
   "id": "3dffc9fe",
   "metadata": {},
   "source": [
    "# Testes"
   ]
  },
  {
   "cell_type": "code",
   "execution_count": 49,
   "id": "ba451a9f",
   "metadata": {},
   "outputs": [],
   "source": [
    "p1 = NeuralNetwork()\n",
    "p2 = NeuralNetwork()"
   ]
  },
  {
   "cell_type": "code",
   "execution_count": 50,
   "id": "6ac7daa3",
   "metadata": {},
   "outputs": [],
   "source": [
    "off1, off2 = crossover(p1, p2)"
   ]
  },
  {
   "cell_type": "code",
   "execution_count": 55,
   "id": "57ed43b0",
   "metadata": {},
   "outputs": [
    {
     "name": "stdout",
     "output_type": "stream",
     "text": [
      "313/313 [==============================] - 3s 8ms/step - loss: 2.4627 - accuracy: 0.0897\n"
     ]
    }
   ],
   "source": [
    "tloff1, taoff1 = off1.network.evaluate(test_images, test_labels)"
   ]
  },
  {
   "cell_type": "code",
   "execution_count": 56,
   "id": "341017ee",
   "metadata": {},
   "outputs": [
    {
     "name": "stdout",
     "output_type": "stream",
     "text": [
      "313/313 [==============================] - 3s 8ms/step - loss: 2.3823 - accuracy: 0.1265\n"
     ]
    }
   ],
   "source": [
    "tloff2, taoff2 = off2.network.evaluate(test_images, test_labels)"
   ]
  },
  {
   "cell_type": "code",
   "execution_count": null,
   "id": "c4da46b8",
   "metadata": {},
   "outputs": [],
   "source": []
  }
 ],
 "metadata": {
  "kernelspec": {
   "display_name": "Python 3",
   "language": "python",
   "name": "python3"
  },
  "language_info": {
   "codemirror_mode": {
    "name": "ipython",
    "version": 3
   },
   "file_extension": ".py",
   "mimetype": "text/x-python",
   "name": "python",
   "nbconvert_exporter": "python",
   "pygments_lexer": "ipython3",
   "version": "3.8.8"
  }
 },
 "nbformat": 4,
 "nbformat_minor": 5
}
