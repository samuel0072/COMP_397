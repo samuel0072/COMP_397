{
 "cells": [
  {
   "cell_type": "code",
   "execution_count": 1,
   "id": "9d971484",
   "metadata": {},
   "outputs": [],
   "source": [
    "import pandas as pd\n",
    "import numpy as np\n",
    "from sklearn.neural_network import MLPClassifier"
   ]
  },
  {
   "cell_type": "code",
   "execution_count": 2,
   "id": "a4b98787",
   "metadata": {},
   "outputs": [],
   "source": [
    "table6 = [[1, 1, 1, 0],# 1 pra True e 0 pra false\n",
    "            [1, 1, 0, 0],\n",
    "            [1, 0, 1, 1],\n",
    "            [1, 0, 0, 0],\n",
    "            [0, 1, 1, 0],\n",
    "            [0, 1, 0, 0],\n",
    "            [0, 0, 1, 0],\n",
    "            [0, 0, 0, 0]]"
   ]
  },
  {
   "cell_type": "code",
   "execution_count": 3,
   "id": "407b0271",
   "metadata": {},
   "outputs": [],
   "source": [
    "columns = [\"p\", \"q\", \"r\", \"(p and r) and not(q)\"]"
   ]
  },
  {
   "cell_type": "code",
   "execution_count": 4,
   "id": "3152aa7d",
   "metadata": {},
   "outputs": [],
   "source": [
    "features = [\"p\", \"q\", \"r\"]"
   ]
  },
  {
   "cell_type": "code",
   "execution_count": 5,
   "id": "58ba06e2",
   "metadata": {},
   "outputs": [],
   "source": [
    "result = [\"(p and r) and not(q)\"]"
   ]
  },
  {
   "cell_type": "code",
   "execution_count": 6,
   "id": "4c1e42a9",
   "metadata": {},
   "outputs": [],
   "source": [
    "df = pd.DataFrame(data = table6, columns = columns)"
   ]
  },
  {
   "cell_type": "code",
   "execution_count": 7,
   "id": "2a1265ab",
   "metadata": {},
   "outputs": [],
   "source": [
    "X = df[features]\n",
    "y = df[result]"
   ]
  },
  {
   "cell_type": "code",
   "execution_count": 8,
   "id": "60f2c5ec",
   "metadata": {},
   "outputs": [],
   "source": [
    "clf = MLPClassifier(solver='sgd', activation = 'logistic',#gradiente descendente com função sigmoid de ativação\n",
    "                    hidden_layer_sizes=(2), learning_rate_init = 1, #duas camadas ocultas com 9 neuronios em cada\n",
    "                    learning_rate = 'constant', random_state=1,max_iter=500)"
   ]
  },
  {
   "cell_type": "code",
   "execution_count": 9,
   "id": "8e63f683",
   "metadata": {},
   "outputs": [
    {
     "data": {
      "text/plain": [
       "MLPClassifier(activation='logistic', hidden_layer_sizes=2, learning_rate_init=1,\n",
       "              max_iter=500, random_state=1, solver='sgd')"
      ]
     },
     "execution_count": 9,
     "metadata": {},
     "output_type": "execute_result"
    }
   ],
   "source": [
    "clf.fit(X, [0, 0, 1, 0, 0, 0, 0, 0])"
   ]
  },
  {
   "cell_type": "code",
   "execution_count": 10,
   "id": "3f29ab84",
   "metadata": {},
   "outputs": [],
   "source": [
    "test = [[1, 1, 1],\n",
    "            [1, 1, 0],\n",
    "            [1, 0, 1],\n",
    "            [1, 0, 0],\n",
    "            [0, 1, 1],\n",
    "            [0, 1, 0],\n",
    "            [0, 0, 1],\n",
    "            [0, 0, 0]]"
   ]
  },
  {
   "cell_type": "code",
   "execution_count": 11,
   "id": "59be6183",
   "metadata": {},
   "outputs": [
    {
     "data": {
      "text/plain": [
       "array([0, 0, 1, 0, 0, 0, 0, 0])"
      ]
     },
     "execution_count": 11,
     "metadata": {},
     "output_type": "execute_result"
    }
   ],
   "source": [
    "clf.predict(test)"
   ]
  },
  {
   "cell_type": "code",
   "execution_count": null,
   "id": "c59ba96b",
   "metadata": {},
   "outputs": [],
   "source": [
    "[coef for coef in clf.coefs_]#pesos por camada:\n",
    "#camada de entrada -> 1º camada oculta\n",
    "#1º camada oculta -> 2º camada oculta\n",
    "#2º camada oculta -> neuronio de saida"
   ]
  },
  {
   "cell_type": "code",
   "execution_count": null,
   "id": "9ca44e38",
   "metadata": {},
   "outputs": [],
   "source": []
  }
 ],
 "metadata": {
  "kernelspec": {
   "display_name": "Python 3",
   "language": "python",
   "name": "python3"
  },
  "language_info": {
   "codemirror_mode": {
    "name": "ipython",
    "version": 3
   },
   "file_extension": ".py",
   "mimetype": "text/x-python",
   "name": "python",
   "nbconvert_exporter": "python",
   "pygments_lexer": "ipython3",
   "version": "3.8.8"
  }
 },
 "nbformat": 4,
 "nbformat_minor": 5
}
