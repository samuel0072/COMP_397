{
 "cells": [
  {
   "cell_type": "code",
   "execution_count": null,
   "metadata": {
    "id": "1o9IH8prJ44O"
   },
   "outputs": [],
   "source": [
    "import random\n",
    "import copy\n",
    "import math"
   ]
  },
  {
   "cell_type": "code",
   "execution_count": null,
   "metadata": {
    "id": "dU2Qgvq001Kx"
   },
   "outputs": [],
   "source": [
    "cont = 0\n",
    "auxiliar = None"
   ]
  },
  {
   "cell_type": "code",
   "execution_count": null,
   "metadata": {
    "id": "DFT9whAZl83Y"
   },
   "outputs": [],
   "source": [
    "#operadores suportados e operandos\n",
    "ops = [\"and\",\"or\", \"not\", \"p\", \"q\", \"r\"]"
   ]
  },
  {
   "cell_type": "code",
   "execution_count": null,
   "metadata": {},
   "outputs": [],
   "source": [
    "TAMANHO_POP = 100\n",
    "TAXA_CRUZAMENTO = 0.6"
   ]
  },
  {
   "cell_type": "code",
   "execution_count": null,
   "metadata": {
    "id": "7DslYJEkmJpr"
   },
   "outputs": [],
   "source": [
    "#Escolhemos a tabela 6\n",
    "\n",
    "# VERDADEIRO VERDADEIRO VERDADEIRO FALSO\n",
    "#\n",
    "# VERDADEIRO VERDADEIRO FALSO      FALSO\n",
    "#\n",
    "# VERDADEIRO FALSO      VERDADEIRO VERDADEIRO\n",
    "#\n",
    "# VERDADEIRO FALSO      FALSO      FALSO\n",
    "#\n",
    "# FALSO      VERDADEIRO VERDADEIRO FALSO\n",
    "#\n",
    "# FALSO      VERDADEIRO FALSO      FALSO\n",
    "#\n",
    "# FALSO      FALSO      VERDADEIRO FALSO\n",
    "#\n",
    "# FALSO      FALSO      FALSO      FALSO\n",
    "\n",
    "tabela6 = [[True, True, True, False],\n",
    "            [True, True, False, False],\n",
    "            [True, False, True, True],\n",
    "            [True, False, False, False],\n",
    "            [False, True, True, False],\n",
    "            [False, True, False, False],\n",
    "            [False, False, True, False],\n",
    "            [False, False, False, False]]"
   ]
  },
  {
   "cell_type": "code",
   "execution_count": null,
   "metadata": {
    "id": "um__itYpmJ1F"
   },
   "outputs": [],
   "source": [
    "class Tree:\n",
    "    propositions = [\"p\", \"q\", \"r\"]\n",
    "    operators = [\"or\", \"not\", \"and\"]\n",
    "    def __init__(self, op, t_left = None, t_right = None, value = None, fitness = 0):\n",
    "        self.op = op#tipo do nó. Algum dentre ops\n",
    "        self.t_left = t_left#subarvore esquerda\n",
    "        self.t_right = t_right#subarvore direita\n",
    "        self.value = value#valor que vai ser avaliado durante a execução da arvore\n",
    "        self.fitness = 0\n",
    "    \n",
    "    def print_tree_expr(self, tree):\n",
    "        \"Retorna uma string representando a arvore como uma expressão lógica\"\n",
    "        if(tree != None):\n",
    "            if tree.op == \"not\":\n",
    "                #print(tree.op,end = \" \")\n",
    "                str_ = tree.op + \" \"\n",
    "                str_ += self.print_tree_expr(tree.t_left)\n",
    "                return str_\n",
    "            else:\n",
    "                str_ = \"\"\n",
    "                str_ += self.print_tree_expr(tree.t_left) \n",
    "                str_ += tree.op + \" \"\n",
    "                #print(tree.op, end = \" \")\n",
    "                str_ += self.print_tree_expr(tree.t_right)\n",
    "                return str_\n",
    "        else:\n",
    "            return \"\"\n",
    "    \n",
    "    \n",
    "    def __deepcopy__(self, memo):#dicionário não é usado\n",
    "        if self.op in self.propositions:#folha\n",
    "            return Tree(self.op, t_left = None, t_right = None, value = self.value)\n",
    "        elif self.t_right != None:#não está em um nó not\n",
    "            return Tree(self.op,\n",
    "                        t_left = self.t_left.__deepcopy__(memo),\n",
    "                        t_right = self.t_right.__deepcopy__(memo),\n",
    "                        value = self.value)\n",
    "        else:#está em um nó not\n",
    "            return Tree(self.op,\n",
    "                        t_left = self.t_left.__deepcopy__(memo),\n",
    "                        t_right = None,\n",
    "                        value = self.value)\n",
    "    \n",
    "    def __str__(self):\n",
    "        return self.print_tree_expr(self)"
   ]
  },
  {
   "cell_type": "code",
   "execution_count": null,
   "metadata": {},
   "outputs": [],
   "source": [
    "def print_tree_not(tree, q_spc):\n",
    "    \"\"\"Printa a arvore como uma estrutura de diretório\"\"\"\n",
    "    if(tree != None):\n",
    "        for i in range(q_spc):\n",
    "            print(\"-\", end = \"\")\n",
    "        if tree.op == \"not\":\n",
    "            print(tree.op, end = \"\\n\")\n",
    "            print_tree_not(tree.t_left, q_spc+1)\n",
    "        else:\n",
    "            print(tree.op, end = \"\\n\")\n",
    "            print_tree_not(tree.t_left, q_spc+1)\n",
    "            print_tree_not(tree.t_right, q_spc+1)"
   ]
  },
  {
   "cell_type": "code",
   "execution_count": null,
   "metadata": {
    "id": "czk-qS5jmPFb"
   },
   "outputs": [],
   "source": [
    "def exec_node(tree, lvalue, rvalue):\n",
    "    \"\"\"\n",
    "    recebe um nó de uma arvore\n",
    "    retorna o resultado daquele nó\n",
    "    \"\"\"\n",
    "   \n",
    "    if tree.op == \"or\":\n",
    "        return lvalue or rvalue\n",
    "    elif tree.op == \"and\":\n",
    "        return lvalue and rvalue\n",
    "    elif tree.op == \"not\":\n",
    "         return not lvalue\n",
    "    elif tree.op in [\"p\", \"q\", \"r\"]:\n",
    "        return lvalue\n",
    "    else:\n",
    "        raise Exception(\"tree.op inválido.\")\n"
   ]
  },
  {
   "cell_type": "code",
   "execution_count": null,
   "metadata": {
    "id": "Fo4KbuP1mUo0"
   },
   "outputs": [],
   "source": [
    "def exec_tree(tree, p, q, r):\n",
    "    \"\"\"\n",
    "    Executa o resultado da arvore que possui tree como raíz\n",
    "    p, q, e r são as atribuições das 3 proposições\n",
    "    Essa função funciona como um avaliador de arvore\n",
    "    A arvore é uma expressão lógica, então ela pode ser avaliada.\n",
    "    A avaliação é feita primeiro nas subarvore depois na raiz da subarvore\n",
    "    \"\"\"\n",
    "    if tree.op == \"p\":\n",
    "        tree.value = p#atribui o valor da proposição a arvore\n",
    "    elif tree.op == \"q\":\n",
    "        tree.value = q\n",
    "    elif tree.op == \"r\":\n",
    "        tree.value = r\n",
    "    else:#se tree não for uma proposição é um or, not ou and\n",
    "        if tree.op == \"not\":#quando tree.op == 'not' tree não possui subarvore a direita\n",
    "            exec_tree(tree.t_left, p, q, r)\n",
    "            lvalue = tree.t_left.value\n",
    "            tree.value = exec_node(tree, lvalue, None)\n",
    "        else:\n",
    "            exec_tree(tree.t_left, p, q, r)#calcula o resultado a esquerda\n",
    "            exec_tree(tree.t_right, p, q, r)#calcula o resultado a direta\n",
    "            lvalue = tree.t_left.value\n",
    "            rvalue = tree.t_right.value\n",
    "            tree.value = exec_node(tree, lvalue, rvalue)#calcula o valor do nó"
   ]
  },
  {
   "cell_type": "code",
   "execution_count": null,
   "metadata": {
    "id": "3x6mCqU4mg2L"
   },
   "outputs": [],
   "source": [
    "def gen_ind(tree):\n",
    "    \"\"\"Retorna a(s) subarvore(s) de tree\"\"\"\n",
    "    global ops\n",
    "    if tree.op == \"not\":\n",
    "        op, = random.sample(ops, k = 1)#random.sample retorna uma lista. Usando a, apenas o elemento é atribuido para op\n",
    "        d_tree = Tree(op)\n",
    "        d1, d2 = gen_ind(d_tree)#gera as subarvores\n",
    "        d_tree.t_left = d1\n",
    "        d_tree.t_right = d2\n",
    "        return [d_tree, None]#como tree é um not então só possui uma subarvore\n",
    "    \n",
    "    elif tree.op in [\"p\", \"q\", \"r\"]:#verifica se a raíz dessa subarvore é uma proposição\n",
    "        return [None, None]# como tree é uma proposição, então não possui subarvore\n",
    "    \n",
    "    else:\n",
    "        #caso seja um 'or' ou 'and'\n",
    "\n",
    "        op1, op2 = random.sample(ops, k = 2) \n",
    "        #op1, = random.sample(ops, k = 2)\n",
    "        #op2, = random.sample(ops, k = 1)\n",
    "        l_tree = Tree(op1)#subarvore esquerda\n",
    "        l1, l2 = gen_ind(l_tree)#gera as subarvores\n",
    "        l_tree.t_left = l1\n",
    "        l_tree.t_right = l2\n",
    "        \n",
    "        \n",
    "        r_tree = Tree(op2)#subarvore direita\n",
    "        r1, r2 = gen_ind(r_tree)#gera as subarvores\n",
    "        r_tree.t_left = r1\n",
    "        r_tree.t_right = r2\n",
    "        \n",
    "        return [l_tree, r_tree]\n"
   ]
  },
  {
   "cell_type": "code",
   "execution_count": null,
   "metadata": {
    "id": "IIVccZmsmmxe"
   },
   "outputs": [],
   "source": [
    "def init_pop(pop_size):\n",
    "    pop = []\n",
    "    global ops\n",
    "    for i in range(pop_size):\n",
    "        op, = random.sample(ops, k = 1)\n",
    "        root = Tree(op)\n",
    "        left, right = gen_ind(root)\n",
    "        root.t_left = left\n",
    "        root.t_right = right\n",
    "        root.fitness = fitness(root)\n",
    "        pop.append(root)\n",
    "    return pop"
   ]
  },
  {
   "cell_type": "code",
   "execution_count": null,
   "metadata": {
    "id": "Gt3dPj-1MjhD"
   },
   "outputs": [],
   "source": [
    "def contar_profundidade(tree):\n",
    "        if(tree != None):\n",
    "            return max(1 + contar_profundidade(tree.t_left), 1 + contar_profundidade(tree.t_right))\n",
    "        return 0"
   ]
  },
  {
   "cell_type": "code",
   "execution_count": null,
   "metadata": {
    "id": "UlduMsWWMimU"
   },
   "outputs": [],
   "source": [
    "def contar_folhas(tree):\n",
    "    if(tree != None):\n",
    "    #print(\"Oi, eu sou o tee.op\", tree.op)\n",
    "        if tree.op in [\"p\", \"q\", \"r\"]:\n",
    "            global cont\n",
    "            cont += 1\n",
    "        else:\n",
    "            contar_folhas(tree.t_left)\n",
    "            contar_folhas(tree.t_right)"
   ]
  },
  {
   "cell_type": "code",
   "execution_count": null,
   "metadata": {
    "id": "H4HEaBL85TQ9"
   },
   "outputs": [],
   "source": [
    "def fitness(individuo):\n",
    "    \"retorna o fitness do indivíduo\"\n",
    "    fit = 0\n",
    "\n",
    "    i = 0\n",
    "    while(i < 8):\n",
    "        lista_aux = tabela6[i]\n",
    "      #p, q, r, valor_esperado\n",
    "        p = lista_aux[0]\n",
    "        q = lista_aux[1]\n",
    "        r = lista_aux[2]\n",
    "        resultado_esperado = lista_aux[3]\n",
    "\n",
    "        exec_tree(individuo, p, q, r)\n",
    "        resultado = individuo.value\n",
    "      #print(\"Eu sou o resultado\", resultado)\n",
    "      #print(\"Eu sou o esperado\", resultado_esperado)\n",
    "        if(resultado == resultado_esperado):\n",
    "            fit = fit + 1\n",
    "\n",
    "        i = i + 1\n",
    "\n",
    "    profundidade = contar_profundidade(individuo)\n",
    "\n",
    "    global cont\n",
    "    cont = 0\n",
    "    contar_folhas(individuo)\n",
    "\n",
    "    if(profundidade == 0):\n",
    "        termo2 = 0\n",
    "    else:\n",
    "        termo2 = 1/profundidade\n",
    "\n",
    "    if(cont == 0):\n",
    "        termo3 = 0\n",
    "    else:\n",
    "        termo3 = 1/cont\n",
    "      \n",
    "    return fit + termo2 + termo3"
   ]
  },
  {
   "cell_type": "code",
   "execution_count": null,
   "metadata": {
    "id": "Q9MokxkhSa2F"
   },
   "outputs": [],
   "source": [
    "def selecionar_sub(tree, rt_chance = 1):\n",
    "    \"\"\"\n",
    "    Retorna um nó aleatório da árvore e o caminho percorrido da raíz até aquele nó.\n",
    "    Sempre que a função alcança uma folha, a folha é retornada como nó escolhido.\n",
    "    O caminho é retornado de trás pra frente.\n",
    "    tree é o nó atual\n",
    "    rt_chance é a chance desse nó ser escolhido.\n",
    "    \"\"\"\n",
    "    if tree.op in tree.propositions:#verifica se o nó atual é uma folha\n",
    "        return [tree, []]\n",
    "    \n",
    "    x = random.randint(0, rt_chance)#Quanto maior rt_chance, maior  a chance de tree ser retornado\n",
    "\n",
    "    if x == 0:#escolheu ir pra esquerda\n",
    "        tree, caminho = selecionar_sub(tree.t_left, rt_chance = rt_chance + 1)\n",
    "        caminho.extend([\"esquerda\"])\n",
    "        return [tree, caminho]\n",
    "    elif x == 1:#escolheu ir pra direita\n",
    "        if(tree.op == \"not\"):#se tree for um not ele não possuí filho à direita\n",
    "            tree, caminho = selecionar_sub(tree.t_left, rt_chance = rt_chance + 1)\n",
    "            caminho.extend([\"esquerda\"])\n",
    "        else:\n",
    "            tree, caminho = selecionar_sub(tree.t_right, rt_chance = rt_chance + 1)\n",
    "            caminho.extend([\"direita\"])\n",
    "        return [tree, caminho]\n",
    "    else:#escolheu retornar o nó atual\n",
    "        global auxiliar\n",
    "        auxiliar = tree\n",
    "        return [auxiliar, []]"
   ]
  },
  {
   "cell_type": "code",
   "execution_count": null,
   "metadata": {
    "id": "X--ASE8X99wE"
   },
   "outputs": [],
   "source": [
    "def cruzamento(pai, mae):\n",
    "    \n",
    "    e_pai, c_pai = selecionar_sub(pai)#escolhe a parte do pai\n",
    "    e_mae, c_mae = selecionar_sub(mae)#\"\"     \"\" \"\"       mãe  \n",
    "    \n",
    "    e_pai = copy.deepcopy(e_pai)#copia para não correr o risco de alterar o pai quando for mexer no filho\n",
    "    e_mae = copy.deepcopy(e_mae)#copia para não correr o risco de alterar a mãe quando for mexer no filho\n",
    "    \n",
    "    filho1 = copy.deepcopy(pai)#primeiro filho é uma cópia do pai\n",
    "    filho2 = copy.deepcopy(mae)#primeiro filho é uma cópia do pai\n",
    "    \n",
    "    #o caminho retornado por selecionar_sub está invertido\n",
    "    c_mae = c_mae[::-1]#inverte o caminho\n",
    "    c_pai = c_pai[::-1]#inverte o caminho\n",
    "    \n",
    "    substituir_arvore(filho1, c_pai, e_mae)#insere no primeiro filho a parte da mãe\n",
    "    substituir_arvore(filho2, c_mae, e_pai)#insere no segundo filho a parte do pai\n",
    "    \n",
    "\n",
    "    return [filho1, filho2]"
   ]
  },
  {
   "cell_type": "code",
   "execution_count": null,
   "metadata": {},
   "outputs": [],
   "source": [
    "def substituir_arvore(tree, caminho, parte):\n",
    "    \"\"\"Insere parte em tree na posição especificada em caminho.\"\"\"\n",
    "    l = len(caminho)\n",
    "    if l > 0:\n",
    "        pai = tree\n",
    "        atual = tree\n",
    "\n",
    "        #refaz o caminho que levou à parte\n",
    "        for i in range(l):\n",
    "            if caminho[i] == \"esquerda\":\n",
    "                aux = atual\n",
    "                atual = atual.t_left\n",
    "                pai = aux\n",
    "            else:\n",
    "                aux = atual\n",
    "                atual = atual.t_right\n",
    "                pai = aux\n",
    "\n",
    "        #verifica se a última direção tomada foi para esquerda ou direita\n",
    "        if caminho[-1] == \"esquerda\":\n",
    "            pai.t_left = parte# substitui o pai do nó a ser substituido com a parte\n",
    "\n",
    "        elif caminho[-1] == \"direita\":\n",
    "            pai.t_right = parte# substitui o pai do nó a ser substituido com a parte\n",
    "    "
   ]
  },
  {
   "cell_type": "code",
   "execution_count": null,
   "metadata": {},
   "outputs": [],
   "source": [
    "#Escolhe um nó aleatório\n",
    "def walkTree(root, mult, max):\n",
    "    aux = None\n",
    "    if root == None:\n",
    "        return\n",
    "    elif random.randint(1, max) <= mult:\n",
    "        return root\n",
    "    else:\n",
    "        if random.randint(1,2) == 1:\n",
    "            aux = walkTree(root.t_left, mult + 1, max)\n",
    "            if aux != None:\n",
    "                return aux\n",
    "            aux = walkTree(root.t_right, mult + 1, max)\n",
    "            if aux != None:\n",
    "                return aux\n",
    "        else:\n",
    "            aux = walkTree(root.t_right, mult + 1, max)\n",
    "            if aux != None:\n",
    "                return aux\n",
    "            aux = walkTree(root.t_left, mult + 1, max)\n",
    "            if aux != None:\n",
    "                return aux"
   ]
  },
  {
   "cell_type": "code",
   "execution_count": null,
   "metadata": {},
   "outputs": [],
   "source": [
    "#Mutação: altera o operador de um nó aleatório\n",
    "def mutacao(tree):\n",
    "    if random.randint(1, 100) <= 100:\n",
    "        #node = Tree()\n",
    "        node = walkTree(tree, 1, contar_profundidade(tree))\n",
    "        #print(tree)\n",
    "        if node.op == \"p\" or node.op == \"q\" or node.op == \"r\":\n",
    "            if node.op == \"p\":\n",
    "                aux = random.randint(1,3)\n",
    "                if aux == 1:\n",
    "                    node.op = \"q\"\n",
    "                elif aux == 2:\n",
    "                    node.op = \"r\"\n",
    "                else:\n",
    "                    node.op = \"not\"\n",
    "                    node.t_left = Tree(\"p\")\n",
    "                return tree\n",
    "            elif node.op == \"q\":\n",
    "                aux = random.randint(1,3)\n",
    "                if aux == 1:\n",
    "                    node.op = \"p\"\n",
    "                elif aux == 2:\n",
    "                    node.op = \"r\"\n",
    "                else:\n",
    "                    node.op = \"not\"\n",
    "                    node.t_left = Tree(\"q\")\n",
    "                return tree\n",
    "            else:\n",
    "                aux = random.randint(1,3)\n",
    "                if aux == 1:\n",
    "                    node.op = \"q\"\n",
    "                elif aux == 2:\n",
    "                    node.op = \"p\"\n",
    "                else:\n",
    "                    node.op = \"not\"\n",
    "                    node.t_left = Tree(\"r\")\n",
    "                return tree\n",
    "        elif node.op == \"and\" or node.op ==\"or\":\n",
    "            if node.op == \"and\":\n",
    "                node.op = \"or\"\n",
    "            elif node.op == \"or\":\n",
    "                node.op = \"and\"\n",
    "            \n",
    "            i = random.randint(1,2)\n",
    "            if i == 1:\n",
    "                n = Tree(\"not\", t_left = node.t_right)\n",
    "                node.t_right = n\n",
    "                \n",
    "            return tree\n",
    "    else:\n",
    "        return tree"
   ]
  },
  {
   "cell_type": "code",
   "execution_count": null,
   "metadata": {},
   "outputs": [],
   "source": [
    "def selecao(populacao, tamanho_max):\n",
    "    \n",
    "    t = len(populacao)\n",
    "    \n",
    "    if(tamanho_max > t ):\n",
    "        raise Exception(\"O tamanho máximo informado é inválido.\")\n",
    "    elif(tamanho_max < 0):\n",
    "        raise Exception(\"O tamanho máximo informado é inválido.\")\n",
    "    \n",
    "    #ordena para executar a seleção elitista    \n",
    "    ordenaPop = sorted(populacao, key = lambda tree: tree.fitness, reverse = True)\n",
    "    ordenaPop = ordenaPop[0:tamanho_max]\n",
    "    \n",
    "    return ordenaPop"
   ]
  },
  {
   "cell_type": "code",
   "execution_count": null,
   "metadata": {},
   "outputs": [],
   "source": [
    "def selecao_pais(populacao, taxa):\n",
    "    \"\"\"Retorna uma população com número par de pais\"\"\"\n",
    "    #ordena para executar a seleção elitista\n",
    "    populacao = sorted(populacao, key = lambda tree: tree.fitness, reverse= True)\n",
    "    t = len(populacao)\n",
    "    q_ind = math.ceil(t *taxa)\n",
    "    \n",
    "    if(q_ind > t ):\n",
    "        raise Exception(\"Quantidade de individuos na população é muito pequena.\")\n",
    "    if (q_ind % 2) != 0:#arredonda para o maior inteiro par mais proximo\n",
    "        q_ind+=1\n",
    "        \n",
    "    pais = populacao[0:q_ind]\n",
    "    return pais"
   ]
  },
  {
   "cell_type": "code",
   "execution_count": null,
   "metadata": {},
   "outputs": [],
   "source": [
    "def cruzamento_pop(candidatos_pais):\n",
    "    \"Retorna os filhos criados pelos candidatos a pais\"\n",
    "    filhos_ = []\n",
    "    \n",
    "    \n",
    "    random.shuffle(candidatos_pais)#embaralha a lista de candidatos a pais\n",
    "    \n",
    "    for i in range(0, len(candidatos_pais), 2):#cruza os pais 2 a 2\n",
    "        filhos = cruzamento(candidatos_pais[i], candidatos_pais[i+1])\n",
    "        print(filhos[0])\n",
    "        print(filhos[1])\n",
    "        filhos[0] = mutacao(filhos[0])#muta o filho\n",
    "        filhos[1] = mutacao(filhos[1])#muta o filho\n",
    "        filhos[0].fitness = fitness( filhos[0])\n",
    "        filhos[1].fitness = fitness( filhos[1])\n",
    "        filhos_.append(filhos)\n",
    "        \n",
    "    return filhos_"
   ]
  },
  {
   "cell_type": "markdown",
   "metadata": {},
   "source": [
    "# Testes"
   ]
  },
  {
   "cell_type": "code",
   "execution_count": null,
   "metadata": {
    "id": "BIsottDqmria",
    "scrolled": true
   },
   "outputs": [],
   "source": [
    "pop = init_pop(100)"
   ]
  },
  {
   "cell_type": "code",
   "execution_count": null,
   "metadata": {},
   "outputs": [],
   "source": [
    "for idx, ind in enumerate(pop):\n",
    "    print(idx, ind, ind.fitness, end= \"\\n\")"
   ]
  },
  {
   "cell_type": "code",
   "execution_count": null,
   "metadata": {},
   "outputs": [],
   "source": [
    "geracao = 1"
   ]
  },
  {
   "cell_type": "code",
   "execution_count": null,
   "metadata": {},
   "outputs": [],
   "source": [
    "while geracao < 100:\n",
    "    print(geracao, end= \"\\n\")\n",
    "    pais = selecao_pais(pop, TAXA_CRUZAMENTO)\n",
    "    print(\"selecionou pais\")\n",
    "    filhos = cruzamento_pop(pais)\n",
    "    print(\"Cruzamento\")\n",
    "    pop.extend(filhos)\n",
    "    pop = selecao(pop, TAMANHO_POP)\n",
    "    #pop.fitness_geracao.append(pop.individuos[0].fitness)\n",
    "    print(\"Seleção\")\n",
    "    geracao += 1\n"
   ]
  },
  {
   "cell_type": "code",
   "execution_count": null,
   "metadata": {},
   "outputs": [],
   "source": [
    "a = copy.deepcopy(pop[63])"
   ]
  },
  {
   "cell_type": "code",
   "execution_count": null,
   "metadata": {},
   "outputs": [],
   "source": [
    "a"
   ]
  },
  {
   "cell_type": "code",
   "execution_count": null,
   "metadata": {},
   "outputs": [],
   "source": [
    "print(a)"
   ]
  },
  {
   "cell_type": "code",
   "execution_count": null,
   "metadata": {},
   "outputs": [],
   "source": []
  }
 ],
 "metadata": {
  "colab": {
   "collapsed_sections": [],
   "include_colab_link": true,
   "name": "ComputacaoEvolucionaria.ipynb",
   "provenance": []
  },
  "kernelspec": {
   "display_name": "Python 3",
   "language": "python",
   "name": "python3"
  },
  "language_info": {
   "codemirror_mode": {
    "name": "ipython",
    "version": 3
   },
   "file_extension": ".py",
   "mimetype": "text/x-python",
   "name": "python",
   "nbconvert_exporter": "python",
   "pygments_lexer": "ipython3",
   "version": "3.8.8"
  }
 },
 "nbformat": 4,
 "nbformat_minor": 1
}
